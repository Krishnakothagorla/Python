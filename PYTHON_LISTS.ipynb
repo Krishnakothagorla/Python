{
  "cells": [
    {
      "cell_type": "markdown",
      "metadata": {
        "id": "view-in-github",
        "colab_type": "text"
      },
      "source": [
        "<a href=\"https://colab.research.google.com/github/Krishnakothagorla/Python/blob/main/PYTHON_LISTS.ipynb\" target=\"_parent\"><img src=\"https://colab.research.google.com/assets/colab-badge.svg\" alt=\"Open In Colab\"/></a>"
      ]
    },
    {
      "cell_type": "markdown",
      "metadata": {
        "id": "5FGvK4qgxihM"
      },
      "source": [
        ""
      ]
    },
    {
      "cell_type": "markdown",
      "metadata": {
        "id": "JdkPP_QXxkJz"
      },
      "source": [
        "###**ACCESS** **LISTS**"
      ]
    },
    {
      "cell_type": "code",
      "execution_count": null,
      "metadata": {
        "colab": {
          "base_uri": "https://localhost:8080/"
        },
        "id": "6mJwtHLkxpv9",
        "outputId": "9f9ef97f-088a-498c-9a7b-6a68facca0bb"
      },
      "outputs": [
        {
          "name": "stdout",
          "output_type": "stream",
          "text": [
            "ACHARYA\n"
          ]
        }
      ],
      "source": [
        "thislist=[\"RRR\",\"KGF\",\"ACHARYA\"]\n",
        "print(thislist[2])"
      ]
    },
    {
      "cell_type": "code",
      "execution_count": null,
      "metadata": {
        "colab": {
          "base_uri": "https://localhost:8080/"
        },
        "id": "QB716pURyqXd",
        "outputId": "18de75d3-4186-4225-d98e-a8a56679507d"
      },
      "outputs": [
        {
          "name": "stdout",
          "output_type": "stream",
          "text": [
            "re350\n"
          ]
        }
      ],
      "source": [
        "thislist=[\"r15\",\"rc390\",\"re350\"]\n",
        "print(thislist[-1])"
      ]
    },
    {
      "cell_type": "code",
      "execution_count": null,
      "metadata": {
        "colab": {
          "base_uri": "https://localhost:8080/"
        },
        "id": "5LuS0c7y0Hvb",
        "outputId": "4b8c1270-0af3-4216-e19a-869f3b1a5f58"
      },
      "outputs": [
        {
          "name": "stdout",
          "output_type": "stream",
          "text": [
            "['re350', 'ns200', 'sf250']\n"
          ]
        }
      ],
      "source": [
        "thislist=[\"r15\",\"rc390\",\"re350\",\"ns200\",\"sf250\"]\n",
        "print(thislist[2:5])"
      ]
    },
    {
      "cell_type": "code",
      "execution_count": null,
      "metadata": {
        "colab": {
          "base_uri": "https://localhost:8080/"
        },
        "id": "iaxCAqxg094p",
        "outputId": "a790ef73-ce28-4196-c405-bfb1599c5778"
      },
      "outputs": [
        {
          "name": "stdout",
          "output_type": "stream",
          "text": [
            "['r15', 'rc390', 're350', 'ns200']\n"
          ]
        }
      ],
      "source": [
        "thislist=[\"r15\",\"rc390\",\"re350\",\"ns200\",\"sf250\"]\n",
        "print(thislist[:4])"
      ]
    },
    {
      "cell_type": "code",
      "execution_count": null,
      "metadata": {
        "colab": {
          "base_uri": "https://localhost:8080/"
        },
        "id": "h3kSfavm2PY-",
        "outputId": "c2df0d4a-2a33-4cc9-8830-833eccfa652e"
      },
      "outputs": [
        {
          "name": "stdout",
          "output_type": "stream",
          "text": [
            "['rc390', 're350', 'ns200']\n"
          ]
        }
      ],
      "source": [
        "bikes=[\"r15\",\"rc390\",\"re350\",\"ns200\",\"sf250\"]\n",
        "print(bikes[-4:-1])"
      ]
    },
    {
      "cell_type": "code",
      "execution_count": null,
      "metadata": {
        "colab": {
          "base_uri": "https://localhost:8080/"
        },
        "id": "S3Dc18ho2nh9",
        "outputId": "21e7be01-ec85-43c3-c35d-429080d25665"
      },
      "outputs": [
        {
          "output_type": "stream",
          "name": "stdout",
          "text": [
            "['r15', 'rc390', 'GT650', 're350', 'ns200', 'sf250']\n"
          ]
        }
      ],
      "source": [
        "bikes=[\"r15\",\"rc390\",\"re350\",\"ns200\",\"sf250\"]\n",
        "bikes.insert(2, \"GT650\")\n",
        "print(bikes)"
      ]
    },
    {
      "cell_type": "code",
      "source": [
        "bikes=[\"r15\",\"rc390\",\"re350\",\"ns200\",\"sf250\"]\n",
        "sbikes=[\"GT650\",\"ZX10R\"]\n",
        "bikes.extend(sbikes)\n",
        "print(bikes)\n"
      ],
      "metadata": {
        "colab": {
          "base_uri": "https://localhost:8080/"
        },
        "id": "TPHlZXf-pHiL",
        "outputId": "9cbc3555-5eb1-4104-cd38-d5817a1d20ab"
      },
      "execution_count": null,
      "outputs": [
        {
          "output_type": "stream",
          "name": "stdout",
          "text": [
            "['r15', 'rc390', 're350', 'ns200', 'sf250', 'GT650', 'ZX10R']\n"
          ]
        }
      ]
    },
    {
      "cell_type": "code",
      "source": [
        "bikes=[\"r15\",\"rc390\",\"re350\",\"ns200\",\"sf250\"]\n",
        "del bikes"
      ],
      "metadata": {
        "id": "E9GYfe22pvoL"
      },
      "execution_count": null,
      "outputs": []
    },
    {
      "cell_type": "code",
      "source": [
        "bikes=[\"r15\",\"rc390\",\"re350\",\"ns200\",\"sf250\"]\n",
        "del bikes[0]\n",
        "print(bikes)"
      ],
      "metadata": {
        "colab": {
          "base_uri": "https://localhost:8080/"
        },
        "id": "jYP_7kZFqfpP",
        "outputId": "9c00f324-f27f-4ee7-b0ac-68c23afe9b03"
      },
      "execution_count": null,
      "outputs": [
        {
          "output_type": "stream",
          "name": "stdout",
          "text": [
            "['rc390', 're350', 'ns200', 'sf250']\n"
          ]
        }
      ]
    },
    {
      "cell_type": "code",
      "source": [
        "bikes=[\"r15\",\"rc390\",\"re350\",\"ns200\",\"sf250\"]\n",
        "bikes.pop()\n",
        "print(bikes)"
      ],
      "metadata": {
        "colab": {
          "base_uri": "https://localhost:8080/"
        },
        "id": "PqeSaB3Cqlcl",
        "outputId": "75dc91fd-2ec1-4c72-d4a9-bb53c16a7d4d"
      },
      "execution_count": null,
      "outputs": [
        {
          "output_type": "stream",
          "name": "stdout",
          "text": [
            "['r15', 'rc390', 're350', 'ns200']\n"
          ]
        }
      ]
    },
    {
      "cell_type": "code",
      "source": [
        "bikes=[\"r15\",\"rc390\",\"re350\",\"ns200\",\"sf250\"]\n",
        "bikes.pop(1)\n",
        "print(bikes)"
      ],
      "metadata": {
        "colab": {
          "base_uri": "https://localhost:8080/"
        },
        "id": "qHn8-j9Oq0tq",
        "outputId": "92be8f1d-38c2-413d-81a2-5bbe8e4142fa"
      },
      "execution_count": null,
      "outputs": [
        {
          "output_type": "stream",
          "name": "stdout",
          "text": [
            "['r15', 're350', 'ns200', 'sf250']\n"
          ]
        }
      ]
    },
    {
      "cell_type": "markdown",
      "source": [
        "### Loops lists"
      ],
      "metadata": {
        "id": "7cM22OrbrjWV"
      }
    },
    {
      "cell_type": "code",
      "source": [
        "bikes=[\"r15\",\"rc390\",\"re350\",\"ns200\",\"sf250\"]\n",
        "for x in bikes:\n",
        "  print(x)"
      ],
      "metadata": {
        "colab": {
          "base_uri": "https://localhost:8080/"
        },
        "id": "4wRtpcwwroTM",
        "outputId": "ed39e73a-198e-4fde-e142-b4a632aec127"
      },
      "execution_count": null,
      "outputs": [
        {
          "output_type": "stream",
          "name": "stdout",
          "text": [
            "r15\n",
            "rc390\n",
            "re350\n",
            "ns200\n",
            "sf250\n"
          ]
        }
      ]
    },
    {
      "cell_type": "code",
      "source": [
        "bikes=[\"r15\",\"rc390\",\"re350\",\"ns200\",\"sf250\"]\n",
        "for i in range(len(bikes)):\n",
        "  print(bikes[i])"
      ],
      "metadata": {
        "colab": {
          "base_uri": "https://localhost:8080/"
        },
        "id": "ZLviCfL1ry9k",
        "outputId": "65c5b970-5401-40c7-e8fc-abdddc0d6e59"
      },
      "execution_count": null,
      "outputs": [
        {
          "output_type": "stream",
          "name": "stdout",
          "text": [
            "r15\n",
            "rc390\n",
            "re350\n",
            "ns200\n",
            "sf250\n"
          ]
        }
      ]
    },
    {
      "cell_type": "code",
      "source": [
        "bikes=[\"r15\",\"rc390\",\"re350\",\"ns200\",\"sf250\"]\n",
        "i = 0\n",
        "while i < len(bikes):\n",
        "  print(bikes[i])\n",
        "  i = i + 1"
      ],
      "metadata": {
        "colab": {
          "base_uri": "https://localhost:8080/"
        },
        "id": "pJ6gN9TssEDG",
        "outputId": "8bd766e5-38c8-4b62-fc81-4d2101946387"
      },
      "execution_count": null,
      "outputs": [
        {
          "output_type": "stream",
          "name": "stdout",
          "text": [
            "r15\n",
            "rc390\n",
            "re350\n",
            "ns200\n",
            "sf250\n"
          ]
        }
      ]
    },
    {
      "cell_type": "code",
      "source": [
        ""
      ],
      "metadata": {
        "id": "UCAyfEZesSNk"
      },
      "execution_count": null,
      "outputs": []
    }
  ],
  "metadata": {
    "colab": {
      "name": "PYTHON LISTS.ipynb",
      "provenance": [],
      "authorship_tag": "ABX9TyOocDmngqK41wPXzyHtkG8k",
      "include_colab_link": true
    },
    "kernelspec": {
      "display_name": "Python 3",
      "name": "python3"
    },
    "language_info": {
      "name": "python"
    }
  },
  "nbformat": 4,
  "nbformat_minor": 0
}