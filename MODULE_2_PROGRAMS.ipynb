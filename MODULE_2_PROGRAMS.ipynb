{
  "nbformat": 4,
  "nbformat_minor": 0,
  "metadata": {
    "colab": {
      "name": "MODULE 2 PROGRAMS.ipynb",
      "provenance": [],
      "authorship_tag": "ABX9TyOlovlgieHAhS4Tyt9xzmcs",
      "include_colab_link": true
    },
    "kernelspec": {
      "name": "python3",
      "display_name": "Python 3"
    },
    "language_info": {
      "name": "python"
    }
  },
  "cells": [
    {
      "cell_type": "markdown",
      "metadata": {
        "id": "view-in-github",
        "colab_type": "text"
      },
      "source": [
        "<a href=\"https://colab.research.google.com/github/Krishnakothagorla/Python/blob/main/MODULE_2_PROGRAMS.ipynb\" target=\"_parent\"><img src=\"https://colab.research.google.com/assets/colab-badge.svg\" alt=\"Open In Colab\"/></a>"
      ]
    },
    {
      "cell_type": "markdown",
      "source": [
        "### Create a function which accepts two inputs from the user and compute nCr"
      ],
      "metadata": {
        "id": "Hh0u5B5XpHPV"
      }
    },
    {
      "cell_type": "code",
      "source": [
        "def nCr(n, r):\n",
        " \n",
        "    return (fact(n) / (fact(r)\n",
        "                * fact(n - r)))\n",
        "def fact(n):\n",
        " \n",
        "    res = 1\n",
        "     \n",
        "    for i in range(2, n+1):\n",
        "        res = res * i\n",
        "         \n",
        "    return res\n",
        "n = 7\n",
        "r = 3\n",
        "print(int(nCr(n, r)))\n",
        " "
      ],
      "metadata": {
        "colab": {
          "base_uri": "https://localhost:8080/"
        },
        "id": "zBH9i0FGpnHc",
        "outputId": "543c8992-5bd1-4a89-de01-20af6228c305"
      },
      "execution_count": 6,
      "outputs": [
        {
          "output_type": "stream",
          "name": "stdout",
          "text": [
            "35\n"
          ]
        }
      ]
    },
    {
      "cell_type": "markdown",
      "source": [
        "### Program to print a specified list after removing the 0th, 4th and 5th elements.\n",
        "Sample List : ['Red', 'Green', 'White', 'Black', 'Pink', 'Yellow']\n",
        "Expected Output : ['Green', 'White', 'Black']"
      ],
      "metadata": {
        "id": "04OHf-w8rKm8"
      }
    },
    {
      "cell_type": "code",
      "source": [
        "colours=['Red', 'Green', 'White', 'Black', 'Pink','Yellow']\n",
        "colours.pop(0)\n",
        "colours.pop(2)\n",
        "colours.pop(3)\n",
        "print(colours)"
      ],
      "metadata": {
        "colab": {
          "base_uri": "https://localhost:8080/"
        },
        "id": "n3TooreEtkuq",
        "outputId": "02152fa2-12c8-4058-fbc6-c8d070de4885"
      },
      "execution_count": 13,
      "outputs": [
        {
          "output_type": "stream",
          "name": "stdout",
          "text": [
            "['Green', 'White', 'Pink']\n"
          ]
        }
      ]
    },
    {
      "cell_type": "code",
      "source": [
        ""
      ],
      "metadata": {
        "id": "y2rJwsvHzRIC"
      },
      "execution_count": null,
      "outputs": []
    }
  ]
}